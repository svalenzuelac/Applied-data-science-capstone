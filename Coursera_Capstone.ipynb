# This notebook will be used mainly for the capstone project 
import pandas as pd
import numpy as np
print('Hello Capstone Project Course!')
